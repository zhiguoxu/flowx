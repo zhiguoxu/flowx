{
 "cells": [
  {
   "cell_type": "code",
   "execution_count": null,
   "outputs": [],
   "source": [
    "from auto_flow.core.agents.agent import Agent\n",
    "from auto_flow.core.llm.openai.openai_llm import OpenAILLM\n",
    "from tutorials.tools import get_current_weather\n",
    "\n",
    "llm = OpenAILLM(model=\"gpt-4o\")\n",
    "\n",
    "agent = Agent(llm=llm, tools=[get_current_weather])"
   ],
   "metadata": {
    "collapsed": false
   }
  },
  {
   "cell_type": "code",
   "execution_count": null,
   "outputs": [],
   "source": [
    "agent.invoke(\"What's the weather like in San Francisco, Tokyo, and Paris?\")"
   ],
   "metadata": {
    "collapsed": false
   }
  },
  {
   "cell_type": "code",
   "execution_count": null,
   "outputs": [],
   "source": [
    "for o in agent.stream(\"What's the weather like in San Francisco, Tokyo, and Paris?\"):\n",
    "    ..."
   ],
   "metadata": {
    "collapsed": false
   }
  },
  {
   "cell_type": "code",
   "execution_count": null,
   "outputs": [],
   "source": [
    "from auto_flow.core.llm.openai.utils import tool_to_openai\n",
    "\n",
    "# Check openai tool.\n",
    "tool_to_openai(get_current_weather)"
   ],
   "metadata": {
    "collapsed": false
   }
  },
  {
   "cell_type": "code",
   "execution_count": null,
   "outputs": [],
   "source": [],
   "metadata": {
    "collapsed": false
   }
  }
 ],
 "metadata": {
  "kernelspec": {
   "display_name": "Python 3",
   "language": "python",
   "name": "python3"
  },
  "language_info": {
   "codemirror_mode": {
    "name": "ipython",
    "version": 2
   },
   "file_extension": ".py",
   "mimetype": "text/x-python",
   "name": "python",
   "nbconvert_exporter": "python",
   "pygments_lexer": "ipython2",
   "version": "2.7.6"
  }
 },
 "nbformat": 4,
 "nbformat_minor": 0
}
