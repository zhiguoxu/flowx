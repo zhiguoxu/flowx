{
 "cells": [
  {
   "cell_type": "code",
   "execution_count": null,
   "metadata": {
    "collapsed": true
   },
   "outputs": [],
   "source": [
    "import time\n",
    "\n",
    "from auto_flow.core.llm.message_parser import StrOutParser\n",
    "from auto_flow.core.llm.openai.openai_llm import OpenAILLM\n",
    "\n",
    "image_url = 'https://image-xzg.oss-cn-beijing.aliyuncs.com/1739518928642_111.jpeg'\n",
    "\n",
    "# model = 'qwen2.5-72b-instruct'\n",
    "# model = \"qwen2.5-vl-7b-instruct\"\n",
    "model = \"gpt-4o\"\n",
    "# base_url = 'https://dashscope.aliyuncs.com/compatible-mode/v1'\n",
    "base_url = 'https://api.chatfire.cn/v1'\n",
    "# api_key = 'sk-d276308c0d614aabbeb4f8159bfc3bd3'\n",
    "api_key = None\n",
    "\n",
    "llm = OpenAILLM(model=model,\n",
    "                base_url=base_url,\n",
    "                api_key=api_key) | StrOutParser()"
   ]
  },
  {
   "cell_type": "code",
   "execution_count": null,
   "outputs": [],
   "source": [
    "t = time.time()\n",
    "cnt = 0\n",
    "for o in llm.stream({\"content\": [\n",
    "    \"图中有什么？\",\n",
    "    {\"url\": \"https://image-xzg.oss-cn-beijing.aliyuncs.com/1739518928642_111.jpeg\"}\n",
    "]}):\n",
    "    if cnt == 0:\n",
    "        print('time', time.time() - t)\n",
    "    cnt += 1\n",
    "    print(o)"
   ],
   "metadata": {
    "collapsed": false
   }
  },
  {
   "cell_type": "code",
   "execution_count": null,
   "outputs": [],
   "source": [],
   "metadata": {
    "collapsed": false
   }
  },
  {
   "cell_type": "code",
   "execution_count": null,
   "outputs": [],
   "source": [
    "import time\n",
    "\n",
    "t = time.time()\n",
    "cnt = 0\n",
    "\n",
    "for o in llm.stream(\"你好\"):\n",
    "    if cnt == 0:\n",
    "        print('time', time.time() - t)\n",
    "    cnt += 1\n",
    "    print(o)"
   ],
   "metadata": {
    "collapsed": false
   }
  },
  {
   "cell_type": "code",
   "execution_count": null,
   "outputs": [],
   "source": [
    "import time\n",
    "\n",
    "t = time.time()\n",
    "cnt = 0\n",
    "\n",
    "for o in llm.stream([\n",
    "    {\"content\": [\n",
    "        {\"type\": \"text\", \"text\": \"What's in this image?\"},\n",
    "        {\n",
    "            \"type\": \"image_url\",\n",
    "            \"image_url\": {\n",
    "                \"url\": \"https://image-xzg.oss-cn-beijing.aliyuncs.com/1739518928642_111.jpeg\"\n",
    "            }\n",
    "        },\n",
    "    ]},\n",
    "    {\n",
    "        \"role\": \"assistant\",\n",
    "        \"content\": \"This image shows a small, fluffy dog running energetically towards the camera on what appears to be a tennis court. The dog looks happy and playful, with its ears flapping in motion. In the background, there are fences surrounding the court, some trees, and a person holding another dog. A ball is also visible on the court, suggesting playtime. The lighting indicates it's a sunny day.\"\n",
    "    },\n",
    "    {\n",
    "        \"role\": \"user\",\n",
    "        \"content\": \"你是谁？\"\n",
    "    }\n",
    "]):\n",
    "    if cnt == 0:\n",
    "        print('time', time.time() - t)\n",
    "    cnt += 1\n",
    "    print(o)\n"
   ],
   "metadata": {
    "collapsed": false
   }
  },
  {
   "cell_type": "code",
   "execution_count": null,
   "outputs": [],
   "source": [
    "llm.invoke({\"content\": [\n",
    "    {\"type\": \"text\", \"text\": \"What's in this image?\"},\n",
    "    {\n",
    "        \"type\": \"image_url\",\n",
    "        \"image_url\": {\n",
    "            \"url\": \"https://image-xzg.oss-cn-beijing.aliyuncs.com/1739518928642_111.jpeg\"\n",
    "        }\n",
    "    },\n",
    "]})"
   ],
   "metadata": {
    "collapsed": false
   }
  },
  {
   "cell_type": "code",
   "execution_count": null,
   "outputs": [],
   "source": [],
   "metadata": {
    "collapsed": false
   }
  }
 ],
 "metadata": {
  "kernelspec": {
   "display_name": "Python 3",
   "language": "python",
   "name": "python3"
  },
  "language_info": {
   "codemirror_mode": {
    "name": "ipython",
    "version": 2
   },
   "file_extension": ".py",
   "mimetype": "text/x-python",
   "name": "python",
   "nbconvert_exporter": "python",
   "pygments_lexer": "ipython2",
   "version": "2.7.6"
  }
 },
 "nbformat": 4,
 "nbformat_minor": 0
}
