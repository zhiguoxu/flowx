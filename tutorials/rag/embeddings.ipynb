{
 "cells": [
  {
   "cell_type": "code",
   "execution_count": null,
   "metadata": {
    "collapsed": true
   },
   "outputs": [],
   "source": [
    "from auto_flow.core.rag.embeddings.huggingface.hf_embedding import HuggingfaceEmbeddings\n",
    "\n",
    "embedding = HuggingfaceEmbeddings(\"hkunlp/instructor-base\")\n",
    "embedding.embed_query(\"hello world!\")"
   ]
  },
  {
   "cell_type": "code",
   "execution_count": null,
   "outputs": [],
   "source": [
    "from auto_flow.core.rag.document.document import Document\n",
    "from auto_flow.core.rag.vectorstore.chroma import Chroma\n",
    "\n",
    "chroma = Chroma()\n",
    "docs = [Document(text=text) for text in [\"dog dog dog\", \"cat cat cat \", \"egg egg egg\", \"apple apple apple\"]]\n",
    "chroma.add_documents(docs)"
   ],
   "metadata": {
    "collapsed": false
   }
  },
  {
   "cell_type": "code",
   "execution_count": null,
   "outputs": [],
   "source": [
    "chroma.search_with_score(\"cat\")"
   ],
   "metadata": {
    "collapsed": false
   }
  },
  {
   "cell_type": "code",
   "execution_count": null,
   "outputs": [],
   "source": [
    "chroma.mmr_search_with_score(\"fruit\")"
   ],
   "metadata": {
    "collapsed": false
   }
  },
  {
   "cell_type": "code",
   "execution_count": null,
   "outputs": [],
   "source": [],
   "metadata": {
    "collapsed": false
   }
  }
 ],
 "metadata": {
  "kernelspec": {
   "display_name": "Python 3",
   "language": "python",
   "name": "python3"
  },
  "language_info": {
   "codemirror_mode": {
    "name": "ipython",
    "version": 2
   },
   "file_extension": ".py",
   "mimetype": "text/x-python",
   "name": "python",
   "nbconvert_exporter": "python",
   "pygments_lexer": "ipython2",
   "version": "2.7.6"
  }
 },
 "nbformat": 4,
 "nbformat_minor": 0
}
