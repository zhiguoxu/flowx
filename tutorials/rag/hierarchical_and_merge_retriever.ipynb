{
 "cells": [
  {
   "cell_type": "code",
   "execution_count": null,
   "outputs": [],
   "source": [
    "from auto_flow.core.rag.splitter.hierarchical_text_splitter import HierarchicalTextSplitter\n",
    "from auto_flow.core.rag.document_loaders.dir_loader import DirLoader\n",
    "\n",
    "dir_loader = DirLoader(file_or_dir=\"./files/paul_graham_essay.txt\")\n",
    "splitter = HierarchicalTextSplitter()"
   ],
   "metadata": {
    "collapsed": false
   }
  },
  {
   "cell_type": "code",
   "execution_count": null,
   "outputs": [],
   "source": [
    "from auto_flow.core.rag.vectorstore.chroma import Chroma\n",
    "\n",
    "docs = dir_loader.load()\n",
    "docs = splitter.split_document(docs)\n",
    "vectorstore = Chroma()\n",
    "vectorstore.add_documents(docs)"
   ],
   "metadata": {
    "collapsed": false
   }
  },
  {
   "cell_type": "code",
   "execution_count": null,
   "metadata": {
    "collapsed": true
   },
   "outputs": [],
   "source": [
    "from auto_flow.core.rag.retrivers.merge_retriever import MergeRetriever\n",
    "\n",
    "base_retriever = vectorstore.as_retriever(top_k=10)\n",
    "merge_retriever = MergeRetriever(base_retriever=base_retriever,\n",
    "                                 vectorstore=vectorstore,\n",
    "                                 merge_threshold_ratio=0.5)\n",
    "\n",
    "query_str = \"Who is Paul Graham?\"\n",
    "doc_and_scores = merge_retriever.invoke_with_scores(query_str)"
   ]
  },
  {
   "cell_type": "code",
   "execution_count": null,
   "outputs": [],
   "source": [
    "for doc, score in doc_and_scores:\n",
    "    print(score, doc.text[:60])"
   ],
   "metadata": {
    "collapsed": false
   }
  },
  {
   "cell_type": "code",
   "execution_count": null,
   "outputs": [],
   "source": [],
   "metadata": {
    "collapsed": false
   }
  }
 ],
 "metadata": {
  "kernelspec": {
   "display_name": "Python 3",
   "language": "python",
   "name": "python3"
  },
  "language_info": {
   "codemirror_mode": {
    "name": "ipython",
    "version": 2
   },
   "file_extension": ".py",
   "mimetype": "text/x-python",
   "name": "python",
   "nbconvert_exporter": "python",
   "pygments_lexer": "ipython2",
   "version": "2.7.6"
  }
 },
 "nbformat": 4,
 "nbformat_minor": 0
}
