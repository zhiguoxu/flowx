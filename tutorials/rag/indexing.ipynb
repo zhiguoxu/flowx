{
 "cells": [
  {
   "cell_type": "markdown",
   "source": [
    "* Avoid writing duplicated content into the vector store\n",
    "* Avoid re-writing unchanged content\n",
    "* Avoid re-computing embeddings over unchanged content\n",
    "* Support document update manager by source"
   ],
   "metadata": {
    "collapsed": false
   }
  },
  {
   "cell_type": "code",
   "execution_count": null,
   "outputs": [],
   "source": [
    "from auto_flow.core.rag.indexing.index_data_manager import MemoryIndexDataManger\n",
    "from auto_flow.core.rag.document.document import Document\n",
    "from auto_flow.core.rag.vectorstore.chroma import Chroma\n",
    "from auto_flow.core.rag.indexing.indexing import Index\n",
    "\n",
    "vector_store = Chroma()\n",
    "index = Index(index_data_manager=MemoryIndexDataManger(),\n",
    "              vector_store=vector_store,\n",
    "              source_id_key=\"source\")"
   ],
   "metadata": {
    "collapsed": false
   }
  },
  {
   "cell_type": "code",
   "execution_count": null,
   "outputs": [],
   "source": [
    "from auto_flow.core.rag.document.document import Document\n",
    "\n",
    "doc1 = Document(text=\"kitty\", metadata={\"source\": \"kitty.txt\"})\n",
    "doc2 = Document(text=\"doggy\", metadata={\"source\": \"doggy.txt\"})\n",
    "\n",
    "index.add([doc1, doc1, doc1, doc1, doc1])"
   ],
   "metadata": {
    "collapsed": false
   }
  },
  {
   "cell_type": "code",
   "execution_count": null,
   "outputs": [],
   "source": [
    "index.delete_all()\n",
    "index.add([doc1, doc2])"
   ],
   "metadata": {
    "collapsed": false
   }
  },
  {
   "cell_type": "code",
   "execution_count": null,
   "outputs": [],
   "source": [
    "index.add([doc1, doc2])"
   ],
   "metadata": {
    "collapsed": false
   }
  },
  {
   "cell_type": "code",
   "execution_count": null,
   "outputs": [],
   "source": [
    "index.delete_all()\n",
    "index.add([doc1, doc2], clean_older_source=True)"
   ],
   "metadata": {
    "collapsed": false
   }
  },
  {
   "cell_type": "code",
   "execution_count": null,
   "outputs": [],
   "source": [
    "index.add([doc1, doc2], clean_older_source=True)"
   ],
   "metadata": {
    "collapsed": false
   }
  },
  {
   "cell_type": "code",
   "execution_count": null,
   "outputs": [],
   "source": [
    "changed_doc_2 = Document(text=\"puppy\", metadata={\"source\": \"doggy.txt\"})\n",
    "index.add([changed_doc_2], clean_older_source=True)"
   ],
   "metadata": {
    "collapsed": false
   }
  },
  {
   "cell_type": "code",
   "execution_count": null,
   "outputs": [],
   "source": [
    "index.delete_by_source(\"kitty.txt\")"
   ],
   "metadata": {
    "collapsed": false
   }
  },
  {
   "cell_type": "code",
   "execution_count": null,
   "outputs": [],
   "source": [],
   "metadata": {
    "collapsed": false
   }
  }
 ],
 "metadata": {
  "kernelspec": {
   "display_name": "Python 3",
   "language": "python",
   "name": "python3"
  },
  "language_info": {
   "codemirror_mode": {
    "name": "ipython",
    "version": 2
   },
   "file_extension": ".py",
   "mimetype": "text/x-python",
   "name": "python",
   "nbconvert_exporter": "python",
   "pygments_lexer": "ipython2",
   "version": "2.7.6"
  }
 },
 "nbformat": 4,
 "nbformat_minor": 0
}
