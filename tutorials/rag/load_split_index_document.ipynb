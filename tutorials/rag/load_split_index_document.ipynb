{
 "cells": [
  {
   "cell_type": "code",
   "execution_count": null,
   "metadata": {
    "collapsed": true
   },
   "outputs": [],
   "source": [
    "from auto_flow.core.rag.splitter.hierarchical_text_splitter import HierarchicalTextSplitter\n",
    "from auto_flow.core.rag.document_loaders.dir_loader import DirLoader\n",
    "\n",
    "dir_loader = DirLoader(file_or_dir=\"./files/paul_graham_essay.txt\")\n",
    "splitter = HierarchicalTextSplitter()"
   ]
  },
  {
   "cell_type": "code",
   "execution_count": null,
   "outputs": [],
   "source": [
    "docs = dir_loader.load()\n",
    "docs = splitter.split_document(docs)"
   ],
   "metadata": {
    "collapsed": false
   }
  },
  {
   "cell_type": "code",
   "execution_count": null,
   "outputs": [],
   "source": [
    "from auto_flow.core.rag.indexing.index_data_manager import MemoryIndexDataManger\n",
    "from auto_flow.core.rag.indexing.indexing import Index\n",
    "from auto_flow.core.rag.vectorstore.chroma import Chroma\n",
    "\n",
    "vector_store = Chroma()\n",
    "index = Index(index_data_manager=MemoryIndexDataManger(),\n",
    "              vector_store=vector_store,\n",
    "              source_id_key=\"source\")"
   ],
   "metadata": {
    "collapsed": false
   }
  },
  {
   "cell_type": "code",
   "execution_count": null,
   "outputs": [],
   "source": [
    "index.delete_all()\n",
    "index.add(docs)"
   ],
   "metadata": {
    "collapsed": false
   }
  },
  {
   "cell_type": "code",
   "execution_count": null,
   "outputs": [],
   "source": [
    "for doc in vector_store.search(\"What is chain of thought\"):\n",
    "    print(doc, \"\\n\")"
   ],
   "metadata": {
    "collapsed": false
   }
  },
  {
   "cell_type": "code",
   "execution_count": null,
   "outputs": [],
   "source": [],
   "metadata": {
    "collapsed": false
   }
  }
 ],
 "metadata": {
  "kernelspec": {
   "display_name": "Python 3",
   "language": "python",
   "name": "python3"
  },
  "language_info": {
   "codemirror_mode": {
    "name": "ipython",
    "version": 2
   },
   "file_extension": ".py",
   "mimetype": "text/x-python",
   "name": "python",
   "nbconvert_exporter": "python",
   "pygments_lexer": "ipython2",
   "version": "2.7.6"
  }
 },
 "nbformat": 4,
 "nbformat_minor": 0
}
