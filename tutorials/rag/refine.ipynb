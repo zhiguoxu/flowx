{
 "cells": [
  {
   "cell_type": "code",
   "execution_count": null,
   "metadata": {
    "collapsed": true
   },
   "outputs": [],
   "source": [
    "from auto_flow.core.rag.combine_documents.refine import RefineDocumentsFlow\n",
    "from auto_flow.core.llm.message_parser import StrOutParser\n",
    "from auto_flow.core.prompts.message_template import MessageTemplate\n",
    "from auto_flow.core.llm.openai.openai_llm import OpenAILLM\n",
    "\n",
    "llm = OpenAILLM(model=\"gpt-4o\")\n",
    "init_prompt = MessageTemplate.user_message(\"Summarize this content: {context}\")\n",
    "\n",
    "refine_prompt = MessageTemplate.user_message(\n",
    "    \"Here's your first summary: {initial_answer}. \"\n",
    "    \"Now add to it based on the following context: {context}\"\n",
    ")\n",
    "refine_llm_chain = refine_prompt | llm | StrOutParser()\n",
    "\n",
    "refine_docs_flow = RefineDocumentsFlow(llm=llm, initial_prompt=init_prompt, refine_prompt=refine_prompt)"
   ]
  },
  {
   "cell_type": "code",
   "execution_count": null,
   "outputs": [],
   "source": [
    "from auto_flow.core.rag.retrivers.wiki_retriever import WikiRetriever\n",
    "\n",
    "wiki = WikiRetriever(top_k=3, doc_content_chars_max=2000)\n",
    "flow = {\"input_documents\": wiki} | refine_docs_flow"
   ],
   "metadata": {
    "collapsed": false
   }
  },
  {
   "cell_type": "code",
   "execution_count": null,
   "outputs": [],
   "source": [
    "flow.invoke(\"How fast are cheetahs?\")"
   ],
   "metadata": {
    "collapsed": false
   }
  },
  {
   "cell_type": "markdown",
   "source": [
    "With helper"
   ],
   "metadata": {
    "collapsed": false
   }
  },
  {
   "cell_type": "code",
   "execution_count": null,
   "outputs": [],
   "source": [
    "from auto_flow.core.rag.helpers import create_refine_flow\n",
    "\n",
    "flow2 = create_refine_flow(wiki, llm)\n",
    "flow2.invoke(\"How fast are cheetahs?\")"
   ],
   "metadata": {
    "collapsed": false
   }
  },
  {
   "cell_type": "code",
   "execution_count": null,
   "outputs": [],
   "source": [
    "from auto_flow.core.rag.helpers import create_refine_flow_with_history\n",
    "\n",
    "history = []\n",
    "flow3 = create_refine_flow_with_history(wiki, llm)\n",
    "flow3.invoke({\"input\": \"How fast are cheetahs?\", \"history\": []})"
   ],
   "metadata": {
    "collapsed": false
   }
  },
  {
   "cell_type": "code",
   "execution_count": null,
   "outputs": [],
   "source": [],
   "metadata": {
    "collapsed": false
   }
  }
 ],
 "metadata": {
  "kernelspec": {
   "display_name": "Python 3",
   "language": "python",
   "name": "python3"
  },
  "language_info": {
   "codemirror_mode": {
    "name": "ipython",
    "version": 2
   },
   "file_extension": ".py",
   "mimetype": "text/x-python",
   "name": "python",
   "nbconvert_exporter": "python",
   "pygments_lexer": "ipython2",
   "version": "2.7.6"
  }
 },
 "nbformat": 4,
 "nbformat_minor": 0
}
