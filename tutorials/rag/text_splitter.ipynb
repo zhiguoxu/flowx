{
 "cells": [
  {
   "cell_type": "code",
   "execution_count": null,
   "outputs": [],
   "source": [
    "from auto_flow.core.rag.document_loaders.dir_loader import DirLoader\n",
    "from auto_flow.core.rag.splitter.utils import get_default_token_length_fn\n",
    "from auto_flow.core.rag.splitter.text_splitter import TextSplitter\n",
    "\n",
    "token_length_fn = get_default_token_length_fn()\n",
    "document = DirLoader(file_or_dir=\"./files/paul_graham_essay.txt\").load()[0]\n",
    "\n",
    "splitter = TextSplitter()\n",
    "for doc in splitter.split_document([document]):\n",
    "    print(token_length_fn(doc.text), doc.text[:50])"
   ],
   "metadata": {
    "collapsed": false
   }
  },
  {
   "cell_type": "code",
   "execution_count": null,
   "outputs": [],
   "source": [
    "from auto_flow.core.rag.splitter.hierarchical_text_splitter import HierarchicalTextSplitter\n",
    "\n",
    "hi_splitter = HierarchicalTextSplitter()\n",
    "for doc in hi_splitter.split_document([document]):\n",
    "    print(token_length_fn(doc.text), doc.text[:50])"
   ],
   "metadata": {
    "collapsed": false
   }
  },
  {
   "cell_type": "code",
   "execution_count": null,
   "outputs": [],
   "source": [],
   "metadata": {
    "collapsed": false
   }
  }
 ],
 "metadata": {
  "kernelspec": {
   "display_name": "Python 3",
   "language": "python",
   "name": "python3"
  },
  "language_info": {
   "codemirror_mode": {
    "name": "ipython",
    "version": 2
   },
   "file_extension": ".py",
   "mimetype": "text/x-python",
   "name": "python",
   "nbconvert_exporter": "python",
   "pygments_lexer": "ipython2",
   "version": "2.7.6"
  }
 },
 "nbformat": 4,
 "nbformat_minor": 0
}
