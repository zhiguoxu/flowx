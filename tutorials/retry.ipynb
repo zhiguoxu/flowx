{
 "cells": [
  {
   "cell_type": "code",
   "execution_count": null,
   "metadata": {
    "collapsed": true
   },
   "outputs": [],
   "source": [
    "from auto_flow.core.flow.config import get_cur_config\n",
    "from auto_flow.core.flow.flow import FunctionFlow\n",
    "import time\n",
    "\n",
    "\n",
    "def foo(inp) -> None:\n",
    "    print(f\"tags: {get_cur_config().tags}\")\n",
    "    '''Fake function that raises an exception.'''\n",
    "    raise ValueError(f\"Invoking foo failed. At time {time.time()}\")\n",
    "\n",
    "\n",
    "flow = FunctionFlow(foo)\n",
    "\n",
    "runnable_with_retries = flow.with_retry(\n",
    "    retry_if_exception_type=ValueError,  # Retry only on ValueError\n",
    "    wait_exponential_jitter=True,  # Add jitter to the exponential backoff\n",
    "    max_attempt=2  # Try twice\n",
    ").with_config(verbose=True)\n",
    "\n",
    "runnable_with_retries.invoke(1)"
   ]
  },
  {
   "cell_type": "code",
   "execution_count": null,
   "outputs": [],
   "source": [],
   "metadata": {
    "collapsed": false
   }
  }
 ],
 "metadata": {
  "kernelspec": {
   "display_name": "Python 3",
   "language": "python",
   "name": "python3"
  },
  "language_info": {
   "codemirror_mode": {
    "name": "ipython",
    "version": 2
   },
   "file_extension": ".py",
   "mimetype": "text/x-python",
   "name": "python",
   "nbconvert_exporter": "python",
   "pygments_lexer": "ipython2",
   "version": "2.7.6"
  }
 },
 "nbformat": 4,
 "nbformat_minor": 0
}
